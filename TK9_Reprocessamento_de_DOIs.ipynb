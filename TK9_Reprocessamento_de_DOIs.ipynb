{
 "cells": [
  {
   "cell_type": "markdown",
   "metadata": {},
   "source": [
    "# Analize e processamento do TK #9 do `scieloorg/doi_request`"
   ]
  },
  {
   "cell_type": "markdown",
   "metadata": {},
   "source": [
    "Para mais informações sobre o problema e motivações olhar o link: \n",
    "https://github.com/scieloorg/doi_request/issues/9"
   ]
  },
  {
   "cell_type": "code",
   "execution_count": null,
   "metadata": {},
   "outputs": [],
   "source": [
    "import re\n",
    "import pandas as pd\n",
    "import numpy as np"
   ]
  },
  {
   "cell_type": "markdown",
   "metadata": {},
   "source": [
    "Arquivo CSV gerado com os dados dos documentos da coleção SciELO Brasil que não possuem registro no Crossref."
   ]
  },
  {
   "cell_type": "code",
   "execution_count": null,
   "metadata": {},
   "outputs": [],
   "source": [
    "doi_files = pd.read_csv('./SciELO_Brazil_DOI.csv', delimiter=\";\", low_memory=False)\n",
    "doi_files.head()"
   ]
  },
  {
   "cell_type": "code",
   "execution_count": null,
   "metadata": {},
   "outputs": [],
   "source": [
    "doi_files.shape"
   ]
  },
  {
   "cell_type": "markdown",
   "metadata": {},
   "source": [
    "#### Testar se o doi ainda não esta registrado no `https://www.doi.org`"
   ]
  },
  {
   "cell_type": "markdown",
   "metadata": {},
   "source": [
    "Para testar se os dois ainda estao indisponiveis, foi construido o script `generate_doi_not_found.py` que consulta toda a lista dos dois no proprio site do `www.doi.org`\n",
    "\n",
    "Esse script deve ser executado num virtualenv de `python>=3.7`e que tenha cido instalados as dependencias atraves do compando `pip install -r requirements.generate_doi_not_found.txt`\n",
    "\n",
    "```shell\n",
    "$ python generate_doi_not_found.py\n",
    "```\n",
    "\n",
    "Ao termido desse processamento teremos o arquivo `df_doi_not_found.csv` e podemos continuar a analize.\n",
    "Nessa etapa devemos pesquizar no *SciELO - DOI Manager* se esse PID ja foi processados ou não, para isso foi construido o script `consult_doi_request_and_extract_data.py` que o ira consultar o banco de dados da aplicação e constroi os arquivos `df_doi_not_processed.csv`, `df_doi_processed.csv` com os dados de dois processado e nao processado. "
   ]
  },
  {
   "cell_type": "markdown",
   "metadata": {},
   "source": [
    "```shell\n",
    "$ python consult_doi_request_and_extract_data.py \\\n",
    "    --host HOSTDB \\\n",
    "    --port 5432 \\\n",
    "    --user doi_user \n",
    "    --password XXXXXXX \n",
    "    --database doi_manager\n",
    "```"
   ]
  },
  {
   "cell_type": "code",
   "execution_count": null,
   "metadata": {},
   "outputs": [],
   "source": [
    "# Carregando dados dos arquivos gerados para facilitar processo\n",
    "df_doi_not_processed = pd.read_csv(\"./df_doi_not_processed.csv\")\n",
    "df_doi_processed = pd.read_csv(\"./df_doi_processed.csv\")"
   ]
  },
  {
   "cell_type": "code",
   "execution_count": null,
   "metadata": {},
   "outputs": [],
   "source": [
    "print(\"DOIs nunca processados\", len(df_doi_not_processed))\n",
    "df_doi_not_processed.head()"
   ]
  },
  {
   "cell_type": "code",
   "execution_count": null,
   "metadata": {},
   "outputs": [],
   "source": [
    "print(\"DOIs ja processados\", len(df_doi_processed))\n",
    "df_doi_processed.head()"
   ]
  },
  {
   "cell_type": "markdown",
   "metadata": {},
   "source": [
    "## Analizando erros do DOI não pocessados"
   ]
  },
  {
   "cell_type": "markdown",
   "metadata": {},
   "source": [
    " Esses casos nessecitam ser Processados adicionados pelo SciELO - DOI Manager"
   ]
  },
  {
   "cell_type": "code",
   "execution_count": null,
   "metadata": {},
   "outputs": [],
   "source": [
    "# Lista dos PIDs para serem Processados\n",
    "print(\"\\n\".join(df_doi_not_processed.pid.to_list()))"
   ]
  },
  {
   "cell_type": "markdown",
   "metadata": {},
   "source": [
    "## Analizando erros do DOI ja processados"
   ]
  },
  {
   "cell_type": "markdown",
   "metadata": {},
   "source": [
    "Foi extraido os dados de `Situação de depósito` e `XML de resultado do depósito` diretamente do banco de dados do PostgreSQL atraves do script utilizado anteriormente."
   ]
  },
  {
   "cell_type": "code",
   "execution_count": null,
   "metadata": {},
   "outputs": [],
   "source": [
    "# tratando cada caso de retorno\n",
    "gb = df_doi_processed.groupby(\"feedback_status\")\n",
    "data_errors = {\n",
    "    x: gb.get_group(x) for x in gb.groups\n",
    "}\n",
    "\n",
    "for k,v in data_errors.items():\n",
    "    print(\"status:\", k, \"\\tTotal\", v.journal.count())"
   ]
  },
  {
   "cell_type": "markdown",
   "metadata": {},
   "source": [
    "### Caso de  statos com `failure`"
   ]
  },
  {
   "cell_type": "code",
   "execution_count": null,
   "metadata": {},
   "outputs": [],
   "source": [
    "status_failure = data_errors[\"failure\"]\n",
    "print(\"Total de item com failure\", status_failure.journal.count())"
   ]
  },
  {
   "cell_type": "code",
   "execution_count": null,
   "metadata": {},
   "outputs": [],
   "source": [
    "# Regex para tratar os retornos dos xml do CrossRef\n",
    "regex = r\"<msg>(.*)<\\/msg>\"\n",
    "result = []\n",
    "\n",
    "for item in status_failure.itertuples():\n",
    "    group = re.findall(regex, item.feedback_xml, re.MULTILINE)\n",
    "    if group:\n",
    "        msg_feedback = group[0]\n",
    "    else:\n",
    "        msg_feedback = \"\"\n",
    "    result.append(\n",
    "        [item.journal, msg_feedback]\n",
    "    )\n",
    "\n",
    "df_result = pd.DataFrame(result, columns=[\"journal\", \"msg_feedback\"])\n",
    "g_df_result = df_result.groupby([\"msg_feedback\", \"journal\"]).size().to_frame('size')\n",
    "g_df_result.sort_values(by=\"size\", ascending=False)\n",
    "\n"
   ]
  },
  {
   "cell_type": "markdown",
   "metadata": {},
   "source": [
    "### Caso de  statos com `success`"
   ]
  },
  {
   "cell_type": "markdown",
   "metadata": {},
   "source": [
    "Esse item deve ser analidados em separado pois aparentemente eles foram processados com sucesso pelo CrossRef, mais seu DOI acusa erro no relatorio"
   ]
  },
  {
   "cell_type": "code",
   "execution_count": null,
   "metadata": {},
   "outputs": [],
   "source": [
    "status_success = data_errors[\"success\"]\n",
    "print(\"Total de item com success\", status_success.journal.count())"
   ]
  },
  {
   "cell_type": "code",
   "execution_count": null,
   "metadata": {},
   "outputs": [],
   "source": [
    "status_success.head()"
   ]
  },
  {
   "cell_type": "code",
   "execution_count": null,
   "metadata": {},
   "outputs": [],
   "source": [
    "import urllib.request\n",
    "exclude_pid = []\n",
    "for row in status_success.itertuples():\n",
    "    req = urllib.request.Request(\"https://www.doi.org/{0}\".format(row.doi))\n",
    "    try: \n",
    "        urllib.request.urlopen(req)\n",
    "    except urllib.error.URLError as e:\n",
    "        print(e.reason)\n",
    "    else:\n",
    "        exclude_pid.append(row.pid)"
   ]
  },
  {
   "cell_type": "markdown",
   "metadata": {},
   "source": [
    "Esses casos os PIDs abaixo deve ser excluidos da lista de erros, pois eles existem e estao validos e registrados"
   ]
  },
  {
   "cell_type": "code",
   "execution_count": null,
   "metadata": {},
   "outputs": [],
   "source": [
    "# Lista dos PIDs para excluir do relatorio\n",
    "print(\"Total de PIDS: \", len(exclude_pid))\n",
    "\n",
    "print(\"\\n\".join(exclude_pid))"
   ]
  },
  {
   "cell_type": "markdown",
   "metadata": {},
   "source": [
    "### Caso de  statos com `error` e `waiting`"
   ]
  },
  {
   "cell_type": "code",
   "execution_count": null,
   "metadata": {},
   "outputs": [],
   "source": [
    "status_error = data_errors[\"error\"]\n",
    "status_waiting = data_errors[\"waiting\"]\n",
    "\n",
    "print(\"Total de item com waiting\", status_waiting.journal.count())\n",
    "print(\"Total de item com error\", status_error.journal.count())"
   ]
  },
  {
   "cell_type": "code",
   "execution_count": null,
   "metadata": {},
   "outputs": [],
   "source": [
    "status_error.head()"
   ]
  },
  {
   "cell_type": "markdown",
   "metadata": {},
   "source": [
    "Esses casos nessecitam ser reprocessados pelo SciELO - DOI Manager"
   ]
  },
  {
   "cell_type": "code",
   "execution_count": null,
   "metadata": {},
   "outputs": [],
   "source": [
    "status_waiting.head()"
   ]
  },
  {
   "cell_type": "markdown",
   "metadata": {},
   "source": [
    "Esses casos nessecitam ser reprocessados pelo SciELO - DOI Manager"
   ]
  },
  {
   "cell_type": "code",
   "execution_count": null,
   "metadata": {},
   "outputs": [],
   "source": [
    "# Lista dos PIDs para serem Reprocessados\n",
    "print(\"\\nstatus_waiting\\n\")\n",
    "print(\"\\n\".join(status_waiting.pid.to_list()))\n",
    "print(\"\\nstatus_error\\n\")\n",
    "print(\"\\n\".join(status_error.pid.to_list()))"
   ]
  },
  {
   "cell_type": "markdown",
   "metadata": {},
   "source": [
    "### Caso de  statos com `notapplicable` "
   ]
  },
  {
   "cell_type": "code",
   "execution_count": null,
   "metadata": {},
   "outputs": [],
   "source": [
    "status_notapplicable = data_errors[\"notapplicable\"]\n",
    "\n",
    "print(\"Total de item com status_notapplicable\", status_notapplicable.journal.count())"
   ]
  },
  {
   "cell_type": "code",
   "execution_count": null,
   "metadata": {
    "scrolled": true
   },
   "outputs": [],
   "source": [
    "status_notapplicable.head()"
   ]
  },
  {
   "cell_type": "markdown",
   "metadata": {},
   "source": [
    "Esse caso deve se verificar o *Prefix* utilizado para registro dos DOI, pois aparetentemente ouve erro de digitação necesses dados. e não há como reprocesser sem a correçao do valor do prefixo."
   ]
  },
  {
   "cell_type": "code",
   "execution_count": null,
   "metadata": {},
   "outputs": [],
   "source": [
    "print(\"\\n\".join(status_notapplicable.doi.to_list()))"
   ]
  },
  {
   "cell_type": "code",
   "execution_count": null,
   "metadata": {},
   "outputs": [],
   "source": []
  }
 ],
 "metadata": {
  "kernelspec": {
   "display_name": "Python 3",
   "language": "python",
   "name": "python3"
  },
  "language_info": {
   "codemirror_mode": {
    "name": "ipython",
    "version": 3
   },
   "file_extension": ".py",
   "mimetype": "text/x-python",
   "name": "python",
   "nbconvert_exporter": "python",
   "pygments_lexer": "ipython3",
   "version": "3.7.3"
  }
 },
 "nbformat": 4,
 "nbformat_minor": 2
}
